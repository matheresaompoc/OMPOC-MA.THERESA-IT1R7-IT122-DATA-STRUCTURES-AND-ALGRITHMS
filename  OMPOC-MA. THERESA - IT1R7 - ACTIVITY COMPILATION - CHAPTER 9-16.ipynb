{
 "cells": [
  {
   "cell_type": "code",
   "execution_count": null,
   "id": "expensive-cambridge",
   "metadata": {},
   "outputs": [],
   "source": [
    "print(\"Chapter 9: Minimum of 200 words\")"
   ]
  },
  {
   "cell_type": "code",
   "execution_count": 2,
   "id": "horizontal-gravity",
   "metadata": {},
   "outputs": [
    {
     "name": "stdout",
     "output_type": "stream",
     "text": [
      "I just learn about graph structure or graph data structure. It have 3 graph the undirected, directed graph and weighted graph. The undirected graph is there is no direction between the two nodes. The nodes are the individual entities like your friend in Facebook. The thing that connect the two nodes is the called the edges. Directed graph is a graph that which the edges have a specific directions. For weighted graph is a type of a graph where edges are weighted. In the code he is using the recursive function that is a type of function or expression predicating some concept or property of one or more variables. He gives s tip that when using recursive function we will start in the simplest case. In the code the one his using as the recursive function is the empty dictionary. By using the recursive function the flight routes have been arrange base on their different routes.\n"
     ]
    }
   ],
   "source": [
    "print (\"I just learn about graph structure or graph data structure. It have 3 graph the undirected, directed graph and weighted graph. The undirected graph is there is no direction between the two nodes. The nodes are the individual entities like your friend in Facebook. The thing that connect the two nodes is the called the edges. Directed graph is a graph that which the edges have a specific directions. For weighted graph is a type of a graph where edges are weighted. In the code he is using the recursive function that is a type of function or expression predicating some concept or property of one or more variables. He gives s tip that when using recursive function we will start in the simplest case. In the code the one his using as the recursive function is the empty dictionary. By using the recursive function the flight routes have been arrange base on their different routes.\")"
   ]
  },
  {
   "cell_type": "code",
   "execution_count": null,
   "id": "signed-simple",
   "metadata": {},
   "outputs": [],
   "source": [
    "print(\"Chapter 10: Minimum of 200 words\")"
   ]
  },
  {
   "cell_type": "code",
   "execution_count": 3,
   "id": "divine-analysis",
   "metadata": {},
   "outputs": [
    {
     "name": "stdout",
     "output_type": "stream",
     "text": [
      "I just learn about binary search. The binary search is an algorithm used in computer science to locate a specified value ( key) within an array. To use the binary search the array should be arrange in ascending or descending order. There 3 iteration or the repetition of a process in binary search, as of linear there are 7 iteration or the repetition of a process. He also use recursive function and for loop in the code. It use for loop for binary search to implement the 3 iterations. \n"
     ]
    }
   ],
   "source": [
    "print (\"I just learn about binary search. The binary search is an algorithm used in computer science to locate a specified value ( key) within an array. To use the binary search the array should be arrange in ascending or descending order. There 3 iteration or the repetition of a process in binary search, as of linear there are 7 iteration or the repetition of a process. He also use recursive function and for loop in the code. It use for loop for binary search to implement the 3 iterations. \")"
   ]
  },
  {
   "cell_type": "code",
   "execution_count": 6,
   "id": "permanent-galaxy",
   "metadata": {},
   "outputs": [
    {
     "ename": "SyntaxError",
     "evalue": "invalid syntax (<ipython-input-6-6c656b295575>, line 1)",
     "output_type": "error",
     "traceback": [
      "\u001b[1;36m  File \u001b[1;32m\"<ipython-input-6-6c656b295575>\"\u001b[1;36m, line \u001b[1;32m1\u001b[0m\n\u001b[1;33m    Chapter 11: Minimum of 200 words\u001b[0m\n\u001b[1;37m            ^\u001b[0m\n\u001b[1;31mSyntaxError\u001b[0m\u001b[1;31m:\u001b[0m invalid syntax\n"
     ]
    }
   ],
   "source": [
    "print(\"Chapter 11: Minimum of 200 words\")"
   ]
  },
  {
   "cell_type": "code",
   "execution_count": 39,
   "id": "premier-mediterranean",
   "metadata": {},
   "outputs": [
    {
     "name": "stdout",
     "output_type": "stream",
     "text": [
      "I just learn about bubble sort. Sorting is the very common case when you are doing software or just simply sorting in paper. The bubble sort are one of the sorting techniques. It is by having a list then compare the 2 numbers and then the one number that is greater than the other then the numbers swap. Then repeat the process for second time, third time and until the biggest number is in the last. Just like the bubble it will pop out all to the top. I just learn that you can use 2 loop at a time. also I learn about swapped variable that you set a condition then if it swapped then it perform the condition.\n"
     ]
    }
   ],
   "source": [
    " print (\"I just learn about bubble sort. Sorting is the very common case when you are doing software or just simply sorting in paper. The bubble sort are one of the sorting techniques. It is by having a list then compare the 2 numbers and then the one number that is greater than the other then the numbers swap. Then repeat the process for second time, third time and until the biggest number is in the last. Just like the bubble it will pop out all to the top. I just learn that you can use 2 loop at a time. also I learn about swapped variable that you set a condition then if it swapped then it perform the condition.\")"
   ]
  },
  {
   "cell_type": "code",
   "execution_count": 5,
   "id": "balanced-permit",
   "metadata": {},
   "outputs": [
    {
     "ename": "SyntaxError",
     "evalue": "invalid syntax (<ipython-input-5-4683d237c5d0>, line 1)",
     "output_type": "error",
     "traceback": [
      "\u001b[1;36m  File \u001b[1;32m\"<ipython-input-5-4683d237c5d0>\"\u001b[1;36m, line \u001b[1;32m1\u001b[0m\n\u001b[1;33m    Chapter 12: Minimum of 200 words\u001b[0m\n\u001b[1;37m            ^\u001b[0m\n\u001b[1;31mSyntaxError\u001b[0m\u001b[1;31m:\u001b[0m invalid syntax\n"
     ]
    }
   ],
   "source": [
    "print(\"Chapter 12: Minimum of 200 words\")"
   ]
  },
  {
   "cell_type": "code",
   "execution_count": 8,
   "id": "fixed-criminal",
   "metadata": {},
   "outputs": [
    {
     "name": "stdout",
     "output_type": "stream",
     "text": [
      "I just learn about quicksort. Just like bubble sort but with a difference in how they sort the numbers. It started in a list of numbers or words then the first number in the list is called pivot. The pivot will be put in its correct place. Then we have right partition and left partition. The process in putting the pivot in the right partition is called partitioning. There are 2 partition schemes the Hoare partition and the lomuto partition. The Hoare partition is that the first number on the list is the pivot then the 2nd number is the start and the last number is the end. That the start number will be compare to the pivot if the pivot is greater than the start number then it will go on until there is a number that is greater than the pivot. Just like the start same process to the end, repeat the process until all are sort. For the lomuto partition the pivot is in the end and the first number is the index and the second number is the p index. The after the explanation I focus on the program and learn about different syntax. Use the code as my reference and try code properly by following the instructions in the video. \n"
     ]
    }
   ],
   "source": [
    "print(\"I just learn about quicksort. Just like bubble sort but with a difference in how they sort the numbers. It started in a list of numbers or words then the first number in the list is called pivot. The pivot will be put in its correct place. Then we have right partition and left partition. The process in putting the pivot in the right partition is called partitioning. There are 2 partition schemes the Hoare partition and the lomuto partition. The Hoare partition is that the first number on the list is the pivot then the 2nd number is the start and the last number is the end. That the start number will be compare to the pivot if the pivot is greater than the start number then it will go on until there is a number that is greater than the pivot. Just like the start same process to the end, repeat the process until all are sort. For the lomuto partition the pivot is in the end and the first number is the index and the second number is the p index. The after the explanation I focus on the program and learn about different syntax. Use the code as my reference and try code properly by following the instructions in the video. \")"
   ]
  },
  {
   "cell_type": "code",
   "execution_count": null,
   "id": "varied-cotton",
   "metadata": {},
   "outputs": [],
   "source": [
    "print(\"Chapter 13: Minimum of 200 words\")"
   ]
  },
  {
   "cell_type": "code",
   "execution_count": null,
   "id": "honey-evidence",
   "metadata": {},
   "outputs": [],
   "source": [
    "print(\"I just learn about insertion sort. There a list that by sorting it you need to create a empty array to sort that list. In insertion sort. It insert the number or word in the list without creating new list to put it. Just by inserting the number that is already in the list to different position on the list until it is sort out. Then after the explanation I focus on the program and use the code as my reference. Try to code properly by following the instructions in the video. Try the exercise that in the last of the video.\")"
   ]
  },
  {
   "cell_type": "code",
   "execution_count": null,
   "id": "respective-power",
   "metadata": {},
   "outputs": [],
   "source": [
    "print(\"Chapter 14: Minimum of 200 words\")"
   ]
  },
  {
   "cell_type": "code",
   "execution_count": null,
   "id": "charitable-aging",
   "metadata": {},
   "outputs": [],
   "source": [
    "print(\"I just learn about merging sort. In the example there are 2 arrays, by comparing the first number in each array if it is greater or less than the other. it will gradwali merge it to become 1 array. Also in the other example the spit the unsorted array into half until it become individual array and that is already but he gradually arrange  it back until it become 1 array. It is already sorted. I just learn that the time complexity of the algorithm is order of n log n. there is timsort it derive from merge and insertion sort. After the discussion, I the carefully watch the program until the end and use the code as my reference.Try the exercise that in the last of the video.\")"
   ]
  },
  {
   "cell_type": "code",
   "execution_count": null,
   "id": "canadian-voltage",
   "metadata": {},
   "outputs": [],
   "source": [
    "print(\"Chapter 15: Minimum of 200 words\")"
   ]
  },
  {
   "cell_type": "code",
   "execution_count": null,
   "id": "detailed-phoenix",
   "metadata": {},
   "outputs": [],
   "source": [
    "print(\"I just learn about shell sort. It start with the example of insertion sort and issues of insertion sort. That the insertion sort have to do multiple comparisons and swap. In the shell sort all the heavy elements in the array are being moves to the right side. It also uses a gap. In the example to gap into 3 the array. Then arrange the 3 gap from smallest to the highest in the same array. After that you make the same process on the next numbers. When it stops all the heavier elements are on the right side and the lesser elements are on the left side. Then do 2 gap array from the same array until you reach a gap of 1. After the discussion, I the carefully watch the program until the end and use the code as my reference. Try the exercise that in the last of the video.\")"
   ]
  },
  {
   "cell_type": "code",
   "execution_count": null,
   "id": "about-donna",
   "metadata": {},
   "outputs": [],
   "source": [
    "print(\"Chapter 16: Minimum of 200 words\")"
   ]
  },
  {
   "cell_type": "code",
   "execution_count": null,
   "id": "thermal-value",
   "metadata": {},
   "outputs": [],
   "source": [
    "print(\"I just learn about selection sort. In the example there is a list. It need candidate for the first position and find the minimum number in the list and swap with the first number. Next on the second number and do it again. Repeat the process until all has been sorted. The bigger complexity of this is order of n square because it is doing probably two for loop in the program so it's not very efficient but in certain cases it could be useful especially when you have an extra space. After the discussion, I the carefully watch the program until the end and use the code as my reference. Try the exercise that in the last of the video.\")"
   ]
  },
  {
   "cell_type": "code",
   "execution_count": null,
   "id": "ranging-circumstances",
   "metadata": {},
   "outputs": [],
   "source": [
    "print(\"Chapter 17: Minimum of 200 words\")"
   ]
  },
  {
   "cell_type": "code",
   "execution_count": null,
   "id": "peaceful-stake",
   "metadata": {},
   "outputs": [],
   "source": [
    "print(\"I just learn about recursive function or recursive python. In the example there 5 customer who want to buy. To not let the customer bored the owner suggest a promo that whoever guest the number of bread everyone is holding including the bread they hold will get a 10% off. The last person ask the fourth person how many bread he is holding and the fourth person ask the third person and until on the 1st person says 1. So they add up there bread until the last person. There are 3 steps of recursion. First, divide big problems into small and simple problem then find a base condition with simple answer and the last is return or roll back answers for base condition to solve all sub problems. The recursive is by summing up all the number until the end. After the discussion, I the carefully watch the program until the end and use the code as my reference. Try the exercise that in the last of the video.\")"
   ]
  },
  {
   "cell_type": "code",
   "execution_count": 7,
   "id": "attempted-baseball",
   "metadata": {},
   "outputs": [
    {
     "name": "stdout",
     "output_type": "stream",
     "text": [
      "Test II\n",
      "\n"
     ]
    }
   ],
   "source": [
    "print(\"Test II. Answer the following questions:\\n\")"
   ]
  },
  {
   "cell_type": "code",
   "execution_count": 20,
   "id": "killing-transfer",
   "metadata": {},
   "outputs": [
    {
     "name": "stdout",
     "output_type": "stream",
     "text": [
      "3/4\n",
      "3\n",
      "4\n"
     ]
    }
   ],
   "source": [
    "#1. Implement the simple methods get_num and get_den that will return the numerator and denominator of a fraction.\n",
    "\n",
    "class Fraction:\n",
    "\n",
    "    def __init__(self, top, bottom):\n",
    "\n",
    "        self.num = top        # the numerator is on top\n",
    "        self.den = bottom     # the denominator is on the bottom\n",
    "\n",
    "    def __str__(self):\n",
    "        return str(self.num) + \"/\" + str(self.den)\n",
    "\n",
    "    def getNum(self):\n",
    "        return self.num\n",
    "\n",
    "    def getDen(self):\n",
    "        return self.den\n",
    "\n",
    "myfraction = Fraction(3, 4)\n",
    "print(myfraction)\n",
    "\n",
    "print(myfraction.getNum())\n",
    "print(myfraction.getDen())"
   ]
  },
  {
   "cell_type": "code",
   "execution_count": 28,
   "id": "boolean-apple",
   "metadata": {},
   "outputs": [
    {
     "name": "stdout",
     "output_type": "stream",
     "text": [
      "Research the __radd__ method. How does it differ from __add__? When is it used? Implement __radd__\n",
      "Answer: \n",
      " the __radd__ method is mplement the __radd__ function is which represents reverse add and is called when the arguments can't be resolved in the forward direction.\n",
      " the difference is that __add__ is implements the + operator, and it returns a new object.\n",
      " __radd__ is used when the __add__ is not present\n",
      "Implement __radd__: \n"
     ]
    },
    {
     "data": {
      "text/plain": [
       "'NICE COLORMY CAT JUST GIVE BIRTH'"
      ]
     },
     "execution_count": 28,
     "metadata": {},
     "output_type": "execute_result"
    }
   ],
   "source": [
    "print(\"2. Research the __radd__ method. How does it differ from __add__? When is it used? Implement __radd__\")\n",
    "print(\"Answer: \\n the __radd__ method is mplement the __radd__ function is which represents reverse add and is called when the arguments can't be resolved in the forward direction.\\n the difference is that __add__ is implements the + operator, and it returns a new object.\\n __radd__ is used when the __add__ is not present\")\n",
    "\n",
    "print(\"Implement __radd__: \")\n",
    "\n",
    "class Upper:\n",
    "    def __init__(self, initial):\n",
    "        self.data = initial.upper()\n",
    "        \n",
    "    def __add__(self, other):\n",
    "        return Upper(other + self.data)\n",
    "    \n",
    "    def __radd__(self, other):\n",
    "        return Upper(other + self.data)\n",
    "        \n",
    "b = Upper(\"My cat just give birth\")\n",
    "c = b + (\"To a 4 grey babies\") \n",
    "d = (\"Nice color\") + b\n",
    "\n",
    "c.data\n",
    "d.data\n",
    "\n"
   ]
  },
  {
   "cell_type": "code",
   "execution_count": 38,
   "id": "flush-above",
   "metadata": {},
   "outputs": [
    {
     "name": "stdout",
     "output_type": "stream",
     "text": [
      "Research the __repr__ method. How does it differ from __str__? When is it used? Implement __repr__.\n",
      "Answer: \n",
      "The __repr__ method returns the string representation of an object. The __str__ is shorter and more user friendly while the __str__ provide more detail\n",
      "Implement __repr__: \n"
     ]
    },
    {
     "data": {
      "text/plain": [
       "\"'Push Pin'\""
      ]
     },
     "execution_count": 38,
     "metadata": {},
     "output_type": "execute_result"
    }
   ],
   "source": [
    "print(\"3. Research the __repr__ method. How does it differ from __str__? When is it used? Implement __repr__.\")\n",
    "print(\"Answer: \")\n",
    "print(\"The __repr__ method returns the string representation of an object. The __str__ is shorter and more user friendly while the __str__ provide more detail\")\n",
    "print(\"Implement __repr__: \")\n",
    "\n",
    "class breed:\n",
    "    breed = 'Push Pin'\n",
    "    def __repr__(self):\n",
    "        return repr(self.breed)\n",
    "    \n",
    "cat = breed()\n",
    "repr(cat)\n"
   ]
  },
  {
   "cell_type": "code",
   "execution_count": null,
   "id": "persistent-variable",
   "metadata": {},
   "outputs": [],
   "source": [
    "print(\"4. The most simple arithmetic circuit is known as the half adder. Research the simple half-adder circuit. Implement this circuit.\")\n",
    "print(\"Answer:\")\n",
    "print(\"A half adder circuit is a circuit that adds 2 single binary digits togethers. It has 2 outputs, which are sum (S) and carry (C). The sum represents the sum of the 2 binary digits. If both binary digits are 0, the sum is equal to 0.\")\n",
    "print(\"Implement this circuit: \")\n",
    "\n",
    "def result(a, b):\n",
    "    sum = a ^ b\n",
    "    carry = a & b\n",
    "    \n",
    "    print(\"Sum = \", sum)\n",
    "    print(\"Carry = \", carry)\n",
    "    \n",
    "a = 20\n",
    "b = 10\n",
    "\n",
    "result(a, b)"
   ]
  },
  {
   "cell_type": "code",
   "execution_count": null,
   "id": "disabled-disability",
   "metadata": {},
   "outputs": [],
   "source": [
    "print(\"5. Design a class to represent a playing card and another one to represent a deck of cards. Using these two classes, implement your favorite card game.\")\n",
    "class Card(object):\n",
    "    \"\"\" Represents a standard playing card.\n",
    "    Attributes:\n",
    "        suit: Integer 0-3\n",
    "        rank: Integer 1-13\n",
    "    \"\"\"\n",
    "\n",
    "    suit_names = [\"Clubs\", \"Diamonds\", \"Hearts\", \"Spades\"]\n",
    "    rank_names = [None, \"2\", \"3\", \"4\", \"5\", \"6\", \"7\", \"8\",\n",
    "                  \"9\", \"10\", \"Jack\", \"Queen\", \"King\", \"Ace\"]\n",
    "\n",
    "    def __init__(self, suit=0, rank=1):\n",
    "        self.suit = suit\n",
    "        self.rank = rank\n",
    "\n",
    "    def __str__(self):\n",
    "        \"\"\" returns a human readable string representation \"\"\"\n",
    "        return '%s of %s' % (Card.rank_names[self.rank],\n",
    "                             Card.suit_names[self.suit])\n",
    "\n",
    "    def __lt__(self, other):\n",
    "        \"\"\" Compares this card to other, only by rank (no suit comparison)\n",
    "        Returns a positive number if this > other, negative otherwise.\n",
    "        Returns 0 if the cards are of same rank\n",
    "        \"\"\"\n",
    "        # t1 = self.rank\n",
    "        # t2 = other.rank\n",
    "        t1 = self.suit, self.rank\n",
    "        t2 = other.suit, other.rank\n",
    "        return t1 < t2\n",
    "\n",
    "    def getRank(self):\n",
    "        return self.rank"
   ]
  },
  {
   "cell_type": "code",
   "execution_count": null,
   "id": "above-venue",
   "metadata": {},
   "outputs": [],
   "source": [
    "print(\"6. Design and implement an experiment to do benchmark comparisons of the two queue(enqueue,dequeue) implementations. What can you learn from such an experiment?\")\n",
    "class Queue:\n",
    " \n",
    "  def __init__(self):\n",
    "      self.queue = list()\n",
    " \n",
    "  def addToQueue(self,value):\n",
    "# Insert method to add element\n",
    "      if value not in self.queue:\n",
    "          self.queue.insert(0,value)\n",
    "          return True\n",
    "      return False\n",
    " \n",
    "  def size(self):\n",
    "      return len(self.queue)\n",
    " \n",
    "MySuperHero = Queue()\n",
    "MySuperHero.addToQueue(\"Thor\")\n",
    "MySuperHero.addToQueue(\"Iron man\")\n",
    "MySuperHero.addToQueue(\"Hulk\")\n",
    "MySuperHero.addToQueue(\"Doctor Strange\")\n",
    "MySuperHero.addToQueue(\"Vision\")\n",
    "print(MySuperHero)\n",
    "\n",
    "import collections\n",
    " \n",
    "# Create a deque\n",
    "DoubleEnded = collections.deque([\"Harry\",\"Hermione\",\"Ron\"])\n",
    "print (DoubleEnded)\n",
    " \n",
    "# Append to the right\n",
    "print(\"Adding to the right: \")\n",
    "DoubleEnded.append(\"Ginny\")\n",
    "print (DoubleEnded)\n",
    " \n",
    "# append to the left\n",
    "print(\"Adding to the left: \")\n",
    "DoubleEnded.appendleft(\"Fred\")\n",
    "print (DoubleEnded)\n",
    " \n",
    "# Remove from the right\n",
    "print(\"Removing from the right: \")\n",
    "DoubleEnded.pop()\n",
    "print (DoubleEnded)\n",
    " \n",
    "# Remove from the left\n",
    "print(\"Removing from the left: \")\n",
    "DoubleEnded.popleft()\n",
    "print (DoubleEnded)\n",
    " \n",
    "# Reverse the dequeue\n",
    "print(\"Reversing the deque: \")\n",
    "DoubleEnded.reverse()\n",
    "print (DoubleEnded)\n"
   ]
  },
  {
   "cell_type": "code",
   "execution_count": null,
   "id": "entire-archive",
   "metadata": {},
   "outputs": [],
   "source": [
    "print(\"7. Consider a real life situation. Formulate a question and then design a simulation that can help to answer it. Possible situations include: \\nCars lined up at a car wash \\nCustomers at a grocery store check-out \\nAirplanes taking off and landing on a runway \\nA bank teller \\nBe sure to state any assumptions that you make and provide any probabilistic data that must be considered as part of the scenario.\")\n",
    "print(\"Answer:\")\n",
    "print(\"speeding of cars\")\n",
    "print(\"social distancing\")\n",
    "print(\"health protocols in store\")\n"
   ]
  },
  {
   "cell_type": "code",
   "execution_count": null,
   "id": "digital-principal",
   "metadata": {},
   "outputs": [],
   "source": [
    "print(\"8. Implement a queue using linked lists.\")\n",
    "queue = [\"fold\", \"pawn\", \"wind\"]\n",
    "queue.append(\"cloud\")\n",
    "queue.append(\"nine\")\n",
    "print(queue)\n",
    "  \n",
    "# Removes the first item\n",
    "print(queue.pop(0))\n",
    "  \n",
    "print(queue)\n",
    "  \n",
    "# Removes the first item\n",
    "print(queue.pop(0))\n",
    "  \n",
    "print(queue)"
   ]
  },
  {
   "cell_type": "code",
   "execution_count": null,
   "id": "mediterranean-midnight",
   "metadata": {},
   "outputs": [],
   "source": [
    "print(\"9. Write a recursive function to compute the factorial of a number.\")\n",
    "\n",
    "def recur_factorial(n):\n",
    "   if n == 1:\n",
    "       return n\n",
    "   else:\n",
    "       return n*recur_factorial(n-1)\n",
    "\n",
    "num = 7\n",
    "\n",
    "\n",
    "print(\"The factorial of\", num, \"is\", recur_factorial(num))\n"
   ]
  },
  {
   "cell_type": "code",
   "execution_count": null,
   "id": "threatened-moscow",
   "metadata": {},
   "outputs": [],
   "source": [
    "print(\"10. Set up a random experiment to test the difference between a sequential search and a binary search on a list of integers.\")\n",
    "def binary_search(arr, low, high, x):\n",
    " \n",
    "    # Check base case\n",
    "    if high >= low:\n",
    " \n",
    "        mid = (high + low) // 2\n",
    " \n",
    "        # If element is present at the middle itself\n",
    "        if arr[mid] == x:\n",
    "            return mid\n",
    " \n",
    "        # If element is smaller than mid, then it can only\n",
    "        # be present in left subarray\n",
    "        elif arr[mid] > x:\n",
    "            return binary_search(arr, low, mid - 1, x)\n",
    " \n",
    "        # Else the element can only be present in right subarray\n",
    "        else:\n",
    "            return binary_search(arr, mid + 1, high, x)\n",
    " \n",
    "    else:\n",
    "        # Element is not present in the array\n",
    "        return -1\n",
    " \n",
    "# Test array\n",
    "arr = [ 2, 3, 4, 10, 40 ]\n",
    "x = 10\n",
    " \n",
    "# Function call\n",
    "result = binary_search(arr, 0, len(arr)-1, x)\n",
    " \n",
    "if result != -1:\n",
    "    print(\"Element is present at index\", str(result))\n",
    "else:\n",
    "    print(\"Element is not present in array\")\n",
    "\n",
    "\n",
    "def Sequential_Search(dlist, item):\n",
    "\n",
    "    pos = 0\n",
    "    found = False\n",
    "    \n",
    "    while pos < len(dlist) and not found:\n",
    "        if dlist[pos] == item:\n",
    "            found = True\n",
    "        else:\n",
    "            pos = pos + 1\n",
    "    \n",
    "    return found, pos\n",
    "\n",
    "print(Sequential_Search([11,23,58,31,56,77,43,12,65,19],31))"
   ]
  },
  {
   "cell_type": "code",
   "execution_count": null,
   "id": "aquatic-vinyl",
   "metadata": {},
   "outputs": [],
   "source": [
    "print(\"11. Suppose you are a computer scientist/art thief who has broken into a major art gallery. All you have with you to haul out your stolen art is your knapsack which only holds W pounds of art, but for every piece of art you know its value and its weight. Write a dynamic programming function to help you maximize your profit. Here is a sample problem for you to use to get started: Suppose your knapsack can hold a total weight of 20. You have 5 items as follows:\")\n",
    "def knapSack(W, wt, val, n):\n",
    "\n",
    "\t# Base Case\n",
    "\tif n == 0 or W == 0:\n",
    "\t\treturn 0\n",
    "\n",
    "\t# If weight of the nth item is\n",
    "\t# more than Knapsack of capacity W,\n",
    "\t# then this item cannot be included\n",
    "\t# in the optimal solution\n",
    "\tif (wt[n-1] > W):\n",
    "\t\treturn knapSack(W, wt, val, n-1)\n",
    "\n",
    "\t# return the maximum of two cases:\n",
    "\t# (1) nth item included\n",
    "\t# (2) not included\n",
    "\telse:\n",
    "\t\treturn max(\n",
    "\t\t\tval[n-1] + knapSack(\n",
    "\t\t\t\tW-wt[n-1], wt, val, n-1),\n",
    "\t\t\tknapSack(W, wt, val, n-1))\n",
    "\n",
    "# end of function knapSack\n",
    "\n",
    "\n",
    "#Driver Code\n",
    "val = [3, 4, 8,8,10]\n",
    "wt = [2, 3, 4,5,9]\n",
    "W = 5\n",
    "n = len(val)\n",
    "print (knapSack(W, wt, val, n))\n",
    "\n",
    "# This code is contributed by Nikhil Kumar Singh\n"
   ]
  }
 ],
 "metadata": {
  "kernelspec": {
   "display_name": "Python 3",
   "language": "python",
   "name": "python3"
  },
  "language_info": {
   "codemirror_mode": {
    "name": "ipython",
    "version": 3
   },
   "file_extension": ".py",
   "mimetype": "text/x-python",
   "name": "python",
   "nbconvert_exporter": "python",
   "pygments_lexer": "ipython3",
   "version": "3.9.2"
  }
 },
 "nbformat": 4,
 "nbformat_minor": 5
}
