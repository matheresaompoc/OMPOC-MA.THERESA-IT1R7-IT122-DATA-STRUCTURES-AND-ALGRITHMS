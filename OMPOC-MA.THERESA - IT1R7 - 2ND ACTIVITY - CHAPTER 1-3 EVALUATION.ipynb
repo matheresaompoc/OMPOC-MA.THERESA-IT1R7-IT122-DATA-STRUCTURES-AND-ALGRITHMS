{
 "cells": [
  {
   "cell_type": "code",
   "execution_count": null,
   "id": "adverse-mobility",
   "metadata": {},
   "outputs": [],
   "source": [
    "print('Discuss your learnings on Chapter 1  time-frame 8:00 - 30:35. Minimum of 200 characters')\n",
    "print('We are all now using internet from searching some items or other things to streaming in different streaming platforms. For me to arrange my code and not to crumple.')\n",
    "print('I just learned about algorithm and data structure. Algorithm is about sequence of steps that turned the input into output. The categories of algorithm are search, sort, insert, update and delete. There are also characteristics of algorithm there are unambiguous, input, output, finiteness or the numbers should be finite, feasibility and independent that even whatever programming language it in, it will not dependent on it. For writing the algorithm it will start with step 1 that is the start then step 2 by declaring or input your data then step 3  combine or add your data, step 4 is display the results and the last step is stop means it the end. I must always consider the time and space of my algorithm because it can affect.')\n",
    "print('As for the data structures the categories of it is the same to the algorithms. As for the characteristics of data structure we have correctness that the data should be implemented, space complexity that the data structure operation must be only take small amount of the memory and time complex that the running time is fast or little time.')"
   ]
  },
  {
   "cell_type": "code",
   "execution_count": null,
   "id": "operational-textbook",
   "metadata": {},
   "outputs": [],
   "source": [
    "print('Discuss your learnings on Chapter 1  time-frame 35:00 - end. Minimum of 200 characters')\n",
    "print('Time and space is so important in an algorithm because this depends your success of your work. I just learn about algorithm analysis and it two different stages the priori analysis and the posterior analysis. The priori analysis is the theoretical analysis of an algorithm. The efficiency of an algorithm is measured by assuming that all other factors are constant and no effect in the implementation or before the execution.')\n",
    "print('As for the posterior analysis it is an empirical analysis of an algorithm mean it is selected algorithm is implemented using the programming language. That is I’m already run the code using my selected programming language, I see the results and more. After testing the analysis I must also consider the time factor and space factor. The time factor is the time it use in executing the algorithm and the space factor is the space the algorithm use in the memory.')\n",
    "print(' I just also learned about space complexity, time complexity and their components. The space complexity have 2 components the fixed part that is required space for certain data and variable, the variable part is that space required by the variable. For time complexity it is the time it consume in running the algorithm to the end.')"
   ]
  },
  {
   "cell_type": "code",
   "execution_count": null,
   "id": "powerful-selection",
   "metadata": {},
   "outputs": [],
   "source": [
    "print('Discuss your learnings on Chapter 2  time-frame 5:00 - 9:00. Minimum of 200 characters')\n",
    "print('Data is everywhere from simply things like your notes, the words in your coded files and more. Also data is very important on coding and more.Data definition is the particular data with the following characteristics.Data definition should be atomic, traceable, accurate, clear and concise')\n",
    "print('Data type is a way to classify various types of data. There are 2 types of data type the build in and the derived data type. Build in data type is built in support of the programming language. We have different kinds of build in like integers, float, character and more. As for derived data types it is an implementation- independent or it is a combination of a build in and associated operations like list, array and more. We have also build in traversing that is moving the data, searching that is searching the data, insertion that is inserting new data, deletion, updating means that you exchange a new data, sorting and merging that is merging the two or more data.')"
   ]
  },
  {
   "cell_type": "code",
   "execution_count": null,
   "id": "sized-declaration",
   "metadata": {},
   "outputs": [],
   "source": [
    "print(' Discuss your learnings on Chapter 3  time-frame 3:00 - 18:00. Minimum of 200 characters')\n",
    "print('I just learned about array. Array is a container which can hold fixed number of items and these items should be of the same type. Arrays use if I want to put multiple data or number in the same place. Diary have elements and index. The elements is a data like 1, 2, 3 and more.The index is the location of the element and the element have numerical index. Then numerical index start with 0. The array have name, size of an array, type, and index. The basic operation of the array are traverse, insertion, deletion, search and update. I can use this if I want to search, change, delete or add an element or index in my array.')\n",
    "print('  When starting an array I need to put from array import * let the python know that the code I\\'m doing is an array. Then I will put the syntax. I also know about type codes. How to use, code and a different syntax of the basic operations. If I want to insert an element in my array I can use the syntax my arrayname.insert (the index I want to be put, the element I want to insert). Same goes with deletion update and other but the array name is the same and the replace it with the word or syntax assign for it.')"
   ]
  },
  {
   "cell_type": "code",
   "execution_count": null,
   "id": "internal-colombia",
   "metadata": {},
   "outputs": [],
   "source": [
    "from array import *\n",
    "\n",
    "myarray1 = array('i', [3,7,11,6,8])\n",
    "print('index 0:', myarray1[2])\n",
    "myarray1.insert(0,55)\n",
    "\n",
    "myarray1.remove(11)\n",
    "\n",
    "myarray1[3]= 5464\n",
    "for x in myarray1:\n",
    "    print(x, end = ' ') "
   ]
  }
 ],
 "metadata": {
  "kernelspec": {
   "display_name": "Python 3",
   "language": "python",
   "name": "python3"
  },
  "language_info": {
   "codemirror_mode": {
    "name": "ipython",
    "version": 3
   },
   "file_extension": ".py",
   "mimetype": "text/x-python",
   "name": "python",
   "nbconvert_exporter": "python",
   "pygments_lexer": "ipython3",
   "version": "3.9.2"
  }
 },
 "nbformat": 4,
 "nbformat_minor": 5
}
